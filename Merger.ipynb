{
 "cells": [
  {
   "cell_type": "markdown",
   "metadata": {},
   "source": [
    "<h1>Merging All Files having in a Folder into One File</h1>\n",
    "<p>Suppose, you have several text files in a folder. All of them has a unique number at the end of their file name. Example: \"my_file_1.txt\", \"my_file_2.txt\" etc. You want to merge them into one file according to ascending order of their uniquely identified number. If your numbers are in a range, it also gives which numbers are missing in that range.</p>"
   ]
  },
  {
   "cell_type": "code",
   "execution_count": 41,
   "metadata": {
    "collapsed": false
   },
   "outputs": [
    {
     "name": "stdout",
     "output_type": "stream",
     "text": [
      "[136, 138, 143, 145, 147, 153, 155, 156, 157, 158, 159, 160, 161, 162, 163, 164, 165, 166, 167, 169, 171, 173, 174, 176, 178, 179, 181, 182, 184, 187, 191, 192, 201, 202, 203, 204, 206, 207, 224, 241, 243, 244, 245, 247, 248]\n"
     ]
    }
   ],
   "source": [
    "import os\n",
    "import re\n",
    "\n",
    "# folder_path is the folder where all text files are available which would be merged togather\n",
    "folder_path = 'accounting9_bn' # I have used relative path, but you can use absolute path\n",
    "merged_file = 'accounting9_bn.txt'; # the merged file name, you can use absolute\n",
    "fileout = open(merged_file,'w',encoding='utf-8');\n",
    "files = os.listdir(folder_path)\n",
    "\n",
    "frs = 1;   # minimum file number (range start)\n",
    "fre = 252; # maximum file number (range end)\n",
    "tot = [x for x in range(frs,fre)]\n",
    "dic = []\n",
    "for file in files:\n",
    "    dic.append([int(re.findall('[0-9]+\\.',file)[0][:-1]), file])\n",
    "for x,y in sorted(dic):\n",
    "    #print(x,y)\n",
    "    tot.remove(x)\n",
    "    filein = open(folder_path+'\\\\'+y,encoding='utf-8');\n",
    "    lines = filein.readlines();\n",
    "    for line in lines:\n",
    "        fileout.write(line)\n",
    "    fileout.write('\\n')\n",
    "    filein.close()\n",
    "fileout.close()\n",
    "print(sorted(tot)); # prints which file numbers are missing "
   ]
  }
 ],
 "metadata": {
  "kernelspec": {
   "display_name": "Python 3",
   "language": "python",
   "name": "python3"
  },
  "language_info": {
   "codemirror_mode": {
    "name": "ipython",
    "version": 3
   },
   "file_extension": ".py",
   "mimetype": "text/x-python",
   "name": "python",
   "nbconvert_exporter": "python",
   "pygments_lexer": "ipython3",
   "version": "3.5.1"
  }
 },
 "nbformat": 4,
 "nbformat_minor": 0
}
