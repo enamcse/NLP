{
 "cells": [
  {
   "cell_type": "markdown",
   "metadata": {},
   "source": [
    "**Given Date:** 14/05/2017<br>\n",
    "**Deadline:** 21/05/2017<br>\n",
    "**Mandatory:** Sentence Segmentation <br>\n",
    "**Optional:** Tokenizer, Word Segmentation, Unique Word Count, Character Frequency"
   ]
  },
  {
   "cell_type": "code",
   "execution_count": 1,
   "metadata": {
    "collapsed": true
   },
   "outputs": [],
   "source": [
    "import nltk as nl\n",
    "import re\n",
    "import codecs"
   ]
  },
  {
   "cell_type": "markdown",
   "metadata": {},
   "source": [
    "<h2>Sentence Segmentation</h2>"
   ]
  },
  {
   "cell_type": "code",
   "execution_count": 3,
   "metadata": {
    "collapsed": false
   },
   "outputs": [],
   "source": [
    "file = codecs.open('data.bn',encoding='utf-8');\n",
    "fileout = codecs.open('data.bn.seg','w',encoding='utf-8');\n",
    "lines=file.readlines();\n",
    "for x in lines:\n",
    "    now=re.findall(r'[^;।\\n\\r?]*।',x)\n",
    "    #print(now)\n",
    "    for y in now:\n",
    "        fileout.write(y+'\\n')\n",
    "file.close();\n",
    "fileout.close();"
   ]
  }
 ],
 "metadata": {
  "kernelspec": {
   "display_name": "Python 3",
   "language": "python",
   "name": "python3"
  },
  "language_info": {
   "codemirror_mode": {
    "name": "ipython",
    "version": 3
   },
   "file_extension": ".py",
   "mimetype": "text/x-python",
   "name": "python",
   "nbconvert_exporter": "python",
   "pygments_lexer": "ipython3",
   "version": "3.5.1"
  }
 },
 "nbformat": 4,
 "nbformat_minor": 0
}
